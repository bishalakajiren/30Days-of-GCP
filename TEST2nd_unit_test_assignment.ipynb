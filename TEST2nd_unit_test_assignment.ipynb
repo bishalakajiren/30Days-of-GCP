{
  "nbformat": 4,
  "nbformat_minor": 0,
  "metadata": {
    "colab": {
      "name": "2nd_unit_test_assignment.ipynb",
      "provenance": [],
      "mount_file_id": "1L4kHjZKJHQxM-I6M6UA38wi3Xu_wPkTV",
      "authorship_tag": "ABX9TyOUpuc2l8HjpfumhiTLiQs5",
      "include_colab_link": true
    },
    "kernelspec": {
      "name": "python3",
      "display_name": "Python 3"
    },
    "language_info": {
      "name": "python"
    }
  },
  "cells": [
    {
      "cell_type": "markdown",
      "metadata": {
        "id": "view-in-github",
        "colab_type": "text"
      },
      "source": [
        "<a href=\"https://colab.research.google.com/github/bishalakajiren/30Days-of-GCP/blob/master/TEST2nd_unit_test_assignment.ipynb\" target=\"_parent\"><img src=\"https://colab.research.google.com/assets/colab-badge.svg\" alt=\"Open In Colab\"/></a>"
      ]
    },
    {
      "cell_type": "markdown",
      "metadata": {
        "id": "DAbUEWDFlKXn"
      },
      "source": [
        "**2nd Unit test  19/mca/003 mcae-621 data mining**"
      ]
    },
    {
      "cell_type": "code",
      "metadata": {
        "id": "USSeHbvLlkVU"
      },
      "source": [
        "from enum import Enum\n",
        "import pandas as pd\n",
        "import numpy as np\n",
        "from sklearn.tree import DecisionTreeClassifier\n",
        "from sklearn.tree import export_graphviz\n",
        "from sklearn.datasets import load_iris\n",
        "import matplotlib.pyplot as plt\n",
        "%matplotlib inline"
      ],
      "execution_count": 77,
      "outputs": []
    },
    {
      "cell_type": "code",
      "metadata": {
        "id": "qH1TrSd1LDCt"
      },
      "source": [
        "feature_names = ['Deadline', 'is There a party', 'Lazy']\n",
        "target_names = ['Party', 'Study', 'Go to pub', 'Watch TV']"
      ],
      "execution_count": 90,
      "outputs": []
    },
    {
      "cell_type": "code",
      "metadata": {
        "id": "_ckODLD-LDpd"
      },
      "source": [
        "class Deadline(Enum):\n",
        "    URGENT = 1\n",
        "    NEAR = 2\n",
        "    NONE = 3\n",
        "\n",
        "class Deadline(Enum):\n",
        "    URGENT = 1\n",
        "    NEAR = 2\n",
        "    NONE = 3\n",
        "\n",
        "\n",
        "class IsThereAParty(Enum):\n",
        "    YES = 1\n",
        "    NO = 2\n",
        "\n",
        "\n",
        "class Lazy(Enum):\n",
        "    YES = 1\n",
        "    NO = 2\n",
        "\n",
        "\n",
        "class Activity(Enum):\n",
        "    PARTY = 1\n",
        "    STUDY = 2\n",
        "    PUB = 3\n",
        "    TV = 4\n",
        "\n"
      ],
      "execution_count": 92,
      "outputs": []
    },
    {
      "cell_type": "code",
      "metadata": {
        "id": "BtznN5hgLFzv"
      },
      "source": [
        "\n",
        "def getFeatureTrainingData():\n",
        "    featureData = np.matrix([\n",
        "        [Deadline.URGENT.value, IsThereAParty.NO.value, Lazy.YES.value],\n",
        "        [Deadline.URGENT.value, IsThereAParty.NO.value, Lazy.YES.value],\n",
        "        [Deadline.NEAR.value, IsThereAParty.YES.value, Lazy.YES.value],\n",
        "        [Deadline.NONE.value, IsThereAParty.YES.value, Lazy.NO.value],\n",
        "        [Deadline.NONE.value, IsThereAParty.NO.value, Lazy.YES.value],\n",
        "        [Deadline.NONE.value, IsThereAParty.YES.value, Lazy.NO.value],\n",
        "        [Deadline.NEAR.value, IsThereAParty.NO.value, Lazy.NO.value],\n",
        "        [Deadline.NEAR.value, IsThereAParty.NO.value, Lazy.YES.value],\n",
        "        [Deadline.NEAR.value, IsThereAParty.YES.value, Lazy.YES.value],\n",
        "        [Deadline.URGENT.value, IsThereAParty.NO.value, Lazy.NO.value]\n",
        "    ])\n",
        "\n",
        "    return featureData\n"
      ],
      "execution_count": 94,
      "outputs": []
    },
    {
      "cell_type": "code",
      "metadata": {
        "id": "VTtsFzTnLMhS"
      },
      "source": [
        "\n",
        "def getOutputTrainingData():\n",
        "    outputData = [\n",
        "        Activity.PARTY.value,\n",
        "        Activity.STUDY.value,\n",
        "        Activity.PARTY.value,\n",
        "        Activity.PARTY.value,\n",
        "        Activity.PUB.value,\n",
        "        Activity.PARTY.value,\n",
        "        Activity.STUDY.value,\n",
        "        Activity.TV.value,\n",
        "        Activity.PARTY.value,\n",
        "        Activity.STUDY.value\n",
        "    ]\n",
        "\n",
        "    return outputData\n"
      ],
      "execution_count": 95,
      "outputs": []
    },
    {
      "cell_type": "code",
      "metadata": {
        "id": "kB_BXV6yLOuH"
      },
      "source": [
        "from sklearn.model_selection import train_test_split"
      ],
      "execution_count": 96,
      "outputs": []
    },
    {
      "cell_type": "code",
      "metadata": {
        "colab": {
          "base_uri": "https://localhost:8080/"
        },
        "id": "Gt8L-D73MX6O",
        "outputId": "b61daf55-6279-4740-bce7-a14eedf6ff5d"
      },
      "source": [
        "\n",
        "def decisionTreeClassifier():\n",
        "    # get training data set\n",
        "    x_train = getFeatureTrainingData()\n",
        "    y_train = getOutputTrainingData()\n",
        "\n",
        "    # Train decision tree classifier\n",
        "    tree_classifier = DecisionTreeClassifier(criterion=\"entropy\", max_depth=5)\n",
        "    tree_classifier.fit(x_train, y_train)\n",
        "\n",
        "    # Predict for new data\n",
        "    prediction = tree_classifier.predict([[Deadline.URGENT.value, IsThereAParty.YES.value, Lazy.NO.value]])\n",
        "    print ('Predicted activity is following')\n",
        "    print(Activity(prediction).name)\n",
        "    \n",
        "\n",
        "    # visualize the decision tree\n",
        "    export_graphviz(tree_classifier,\n",
        "                    out_file='d.dot',\n",
        "                    feature_names=feature_names,\n",
        "                    class_names=target_names,\n",
        "                    rounded=True,\n",
        "                    filled=True)\n",
        "\n",
        "\n",
        "decisionTreeClassifier()"
      ],
      "execution_count": 118,
      "outputs": [
        {
          "output_type": "stream",
          "name": "stdout",
          "text": [
            "Predicted activity is following\n",
            "PARTY\n"
          ]
        },
        {
          "output_type": "stream",
          "name": "stderr",
          "text": [
            "/usr/local/lib/python3.7/dist-packages/sklearn/utils/validation.py:590: FutureWarning: np.matrix usage is deprecated in 1.0 and will raise a TypeError in 1.2. Please convert to a numpy array with np.asarray. For more information see: https://numpy.org/doc/stable/reference/generated/numpy.matrix.html\n",
            "  FutureWarning,\n"
          ]
        }
      ]
    },
    {
      "cell_type": "code",
      "metadata": {
        "id": "lD1ObAzIUd6U"
      },
      "source": [
        ""
      ],
      "execution_count": null,
      "outputs": []
    }
  ]
}